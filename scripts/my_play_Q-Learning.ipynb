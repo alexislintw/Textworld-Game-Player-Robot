{
 "cells": [
  {
   "cell_type": "markdown",
   "metadata": {},
   "source": [
    "https://github.com/microsoft/textworld\n",
    "\n",
    "- Playing a game (terminal)\n",
    "- tw-play gen_games/tw-game-vjs3cos0-house-GP-OgOJFl9Jtba5I1Rb.ulx"
   ]
  },
  {
   "cell_type": "code",
   "execution_count": 1,
   "metadata": {},
   "outputs": [],
   "source": [
    "import numpy as np\n",
    "import textworld\n",
    "import random\n",
    "import matplotlib.pyplot as plt\n",
    "import math"
   ]
  },
  {
   "cell_type": "code",
   "execution_count": 2,
   "metadata": {},
   "outputs": [],
   "source": [
    "def get_room(desc):\n",
    "    \n",
    "    room = ''\n",
    "    lines = desc\n",
    "    lines = lines.lower()\n",
    "    lines = lines.split('\\n')\n",
    "    line = lines[0]\n",
    "    line = line.strip()\n",
    "    if \"-=\" in line and \"=-\" in line:\n",
    "        room = line.split(\" \")[1]\n",
    "    \n",
    "    return room    \n",
    "\n",
    "\n",
    "def get_command(state,command_list):\n",
    "    global my_memory,epsilon\n",
    "    \n",
    "    if epsilon*100 > random.randint(0,100):\n",
    "        r = random.randint(0,len(command_list)-1)\n",
    "        c = command_list[r]\n",
    "        return c\n",
    "    else:\n",
    "        max_reward = -10000\n",
    "        best_action = ''\n",
    "        for c in command_list:\n",
    "            for m in my_memory:\n",
    "                the_state = m[0]\n",
    "                the_action = m[1]\n",
    "                the_reward = m[2]\n",
    "                if the_state == state and the_action == c and the_reward > max_reward  :\n",
    "                    best_action = the_action\n",
    "                    max_reward = the_reward\n",
    "\n",
    "        if len(best_action) > 0:\n",
    "            return best_action\n",
    "        else:\n",
    "            r = random.randint(0,len(command_list)-1)\n",
    "            c = command_list[r]\n",
    "            return c\n",
    "\n",
    "\n",
    "def get_good_command(state,command_list):\n",
    "    \n",
    "    good_command = []\n",
    "    for c in command_list:\n",
    "        if 'insert' in c or 'take' in c or 'go' in c:\n",
    "        #if 'insert' in c or 'take' in c or 'go' in c or 'open' in c:\n",
    "        #if 'drop' not in c and 'examine' not in c and 'close' not in c:\n",
    "        #if 'examine' not in c:\n",
    "            good_command.append(c)\n",
    "\n",
    "    return get_command(state,good_command)\n",
    "\n",
    "\n",
    "def update_memory(state,action,reward):\n",
    "    global my_memory,alpha\n",
    "    \n",
    "    has_update = False\n",
    "    for r in my_memory:\n",
    "        if r[0] == state and r[1] == action:\n",
    "            r[2] = (1-alpha)*r[2] + alpha*reward\n",
    "            #print(r)\n",
    "            has_update = True\n",
    "            break\n",
    "    \n",
    "    if has_update == False:\n",
    "        my_memory.append([state,action,reward])\n",
    "    "
   ]
  },
  {
   "cell_type": "code",
   "execution_count": 3,
   "metadata": {},
   "outputs": [
    {
     "name": "stdout",
     "output_type": "stream",
     "text": [
      "====== COMPLETED ======\n",
      "episode num :  1\n",
      "total steps : 8\n",
      "eat sandwich\n",
      "====== COMPLETED ======\n",
      "episode num :  2\n",
      "total steps : 61\n",
      "take lightbulb\n",
      "====== COMPLETED ======\n",
      "episode num :  3\n",
      "total steps : 2\n",
      "take lightbulb\n",
      "====== COMPLETED ======\n",
      "episode num :  4\n",
      "total steps : 2\n",
      "take lightbulb\n",
      "====== COMPLETED ======\n",
      "episode num :  5\n",
      "total steps : 2\n",
      "take lightbulb\n",
      "====== COMPLETED ======\n",
      "episode num :  6\n",
      "total steps : 2\n",
      "take lightbulb\n",
      "====== COMPLETED ======\n",
      "episode num :  7\n",
      "total steps : 2\n",
      "take lightbulb\n",
      "====== COMPLETED ======\n",
      "episode num :  8\n",
      "total steps : 2\n",
      "take lightbulb\n",
      "====== COMPLETED ======\n",
      "episode num :  9\n",
      "total steps : 2\n",
      "take lightbulb\n",
      "====== COMPLETED ======\n",
      "episode num :  10\n",
      "total steps : 2\n",
      "take lightbulb\n",
      "====== COMPLETED ======\n",
      "episode num :  11\n",
      "total steps : 2\n",
      "take lightbulb\n",
      "====== COMPLETED ======\n",
      "episode num :  12\n",
      "total steps : 2\n",
      "take lightbulb\n",
      "====== COMPLETED ======\n",
      "episode num :  13\n",
      "total steps : 2\n",
      "take lightbulb\n",
      "====== COMPLETED ======\n",
      "episode num :  14\n",
      "total steps : 2\n",
      "take lightbulb\n",
      "====== COMPLETED ======\n",
      "episode num :  15\n",
      "total steps : 2\n",
      "take lightbulb\n",
      "====== COMPLETED ======\n",
      "episode num :  16\n",
      "total steps : 2\n",
      "take lightbulb\n",
      "====== COMPLETED ======\n",
      "episode num :  17\n",
      "total steps : 2\n",
      "take lightbulb\n",
      "====== COMPLETED ======\n",
      "episode num :  18\n",
      "total steps : 2\n",
      "take lightbulb\n",
      "====== COMPLETED ======\n",
      "episode num :  19\n",
      "total steps : 2\n",
      "take lightbulb\n",
      "====== COMPLETED ======\n",
      "episode num :  20\n",
      "total steps : 2\n",
      "take lightbulb\n",
      "====== COMPLETED ======\n",
      "episode num :  21\n",
      "total steps : 2\n",
      "take lightbulb\n",
      "====== COMPLETED ======\n",
      "episode num :  22\n",
      "total steps : 2\n",
      "take lightbulb\n",
      "====== COMPLETED ======\n",
      "episode num :  23\n",
      "total steps : 2\n",
      "take lightbulb\n",
      "====== COMPLETED ======\n",
      "episode num :  24\n",
      "total steps : 2\n",
      "take lightbulb\n",
      "====== COMPLETED ======\n",
      "episode num :  25\n",
      "total steps : 2\n",
      "take lightbulb\n",
      "====== COMPLETED ======\n",
      "episode num :  26\n",
      "total steps : 2\n",
      "take lightbulb\n",
      "====== COMPLETED ======\n",
      "episode num :  27\n",
      "total steps : 2\n",
      "take lightbulb\n",
      "====== COMPLETED ======\n",
      "episode num :  28\n",
      "total steps : 2\n",
      "take lightbulb\n",
      "====== COMPLETED ======\n",
      "episode num :  29\n",
      "total steps : 2\n",
      "take lightbulb\n",
      "====== COMPLETED ======\n",
      "episode num :  30\n",
      "total steps : 2\n",
      "take lightbulb\n",
      "avg. steps:   4.2; avg. score:  1.0 / 1.\n"
     ]
    }
   ],
   "source": [
    "my_memory = []\n",
    "results = []\n",
    "exploration_factor = []\n",
    "\n",
    "alpha = 0.5\n",
    "epsilon = 1.0\n",
    "step_total = 1000\n",
    "\n",
    "#rooms = ['scullery', 'attic', 'bedchamber', 'pantry', 'vault']\n",
    "#actions = ['take formless keycard', 'go east', 'insert passkey into locker', 'take passkey from locker', 'go west', 'insert formless keycard into locker', 'take formless keycard from locker', 'go south', 'insert cloak into toolbox', 'take key from toolbox', 'insert keycard into toolbox', 'go north', 'insert lampshade into locker', 'take lampshade from locker', 'insert formless keycard into toolbox', 'insert lampshade into toolbox', 'take formless keycard from toolbox', 'insert key into toolbox', 'take cloak from toolbox', 'take keycard from toolbox', 'insert passkey into toolbox', 'insert cloak into locker', 'insert keycard into locker', 'take cloak from locker', 'take passkey from toolbox', 'take lampshade from toolbox', 'take keycard from locker', 'insert key into locker']\n",
    "\n",
    "#env = textworld.start(\"gen_games/tw-game-vjs3cos0-house-GP-OgOJFl9Jtba5I1Rb.ulx\")\n",
    "env = textworld.start(\"gen_games/tw-game-kOheSehN-house-GP-03lsMoGCgWlS1pq.ulx\")\n",
    "agent = textworld.agents.NaiveAgent()  # Or your own `textworld.Agent` subclass.\n",
    "\n",
    "avg_moves, avg_scores = [], []\n",
    "N = 30 #10\n",
    "\n",
    "env.activate_state_tracking()\n",
    "env.compute_intermediate_reward()\n",
    "env.enable_extra_info(\"description\")\n",
    "env.enable_extra_info(\"inventory\")\n",
    "    \n",
    "for no_episode in range(N):\n",
    "    #my_memory.clear()\n",
    "    \n",
    "    agent.reset(env)  # Tell the agent a new episode is starting.\n",
    "    game_state = env.reset()  # Start new episode.\n",
    "    \n",
    "    #print(game_state.objective)\n",
    "    \n",
    "    reward = 0\n",
    "    done = False\n",
    "    \n",
    "    #epsilon = epsilon - 0.01\n",
    "    epsilon = 1/math.pow(no_episode+1,2)\n",
    "    exploration_factor.append(epsilon)\n",
    "        \n",
    "    for no_step in range(step_total):\n",
    "                \n",
    "        room = get_room(game_state.description)\n",
    "        c_list = game_state.admissible_commands\n",
    "        \n",
    "        command = get_command(room,c_list)\n",
    "        #command = get_good_command(room,c_list)\n",
    "        \n",
    "        game_state, reward, done = env.step(command)\n",
    "        im_reward = game_state.intermediate_reward\n",
    "        next_room = get_room(game_state.description)\n",
    "        \n",
    "        #print('room:',room)\n",
    "        #print('command:',command)\n",
    "        #print('ireward:',game_state.intermediate_reward)\n",
    "        #print('reward:',reward)\n",
    "        #print('--------------------')\n",
    "        \n",
    "        update_memory(room,command,im_reward)\n",
    "        \n",
    "        #可用function\n",
    "        #print(game_state.admissible_commands)\n",
    "        #print(game_state.inventory)\n",
    "        #print(game_state.state) #顯示目前位置(JSON格式)\n",
    "        #print(game_state.view()) #顯示目前的state\n",
    "        #print(game_state.description) #目前位置的狀況(房間)\n",
    "                \n",
    "        if done:\n",
    "            print('====== COMPLETED ======')\n",
    "            print('episode num : ', no_episode+1)\n",
    "            print('total steps :',no_step+1)\n",
    "            print(command)\n",
    "            results.append(no_step)\n",
    "            break\n",
    "\n",
    "    # See https://textworld-docs.maluuba.com/textworld.html#textworld.core.GameState\n",
    "    avg_moves.append(game_state.nb_moves)\n",
    "    avg_scores.append(game_state.score)\n",
    "\n",
    "env.close()\n",
    "print(\"avg. steps: {:5.1f}; avg. score: {:4.1f} / 1.\".format(sum(avg_moves)/N, sum(avg_scores)/N))\n"
   ]
  },
  {
   "cell_type": "code",
   "execution_count": 4,
   "metadata": {},
   "outputs": [
    {
     "data": {
      "text/plain": [
       "[<matplotlib.lines.Line2D at 0xa20ad94a8>]"
      ]
     },
     "execution_count": 4,
     "metadata": {},
     "output_type": "execute_result"
    },
    {
     "data": {
      "image/png": "[encoded data removed]",
      "text/plain": [
       "<matplotlib.figure.Figure at 0xa2060f7f0>"
      ]
     },
     "metadata": {
      "needs_background": "light"
     },
     "output_type": "display_data"
    }
   ],
   "source": [
    "plt.xlabel('episode number')\n",
    "plt.ylabel('total steps')\n",
    "plt.plot(results)"
   ]
  },
  {
   "cell_type": "code",
   "execution_count": 5,
   "metadata": {},
   "outputs": [
    {
     "data": {
      "text/plain": [
       "[<matplotlib.lines.Line2D at 0xa20d97278>]"
      ]
     },
     "execution_count": 5,
     "metadata": {},
     "output_type": "execute_result"
    },
    {
     "data": {
      "image/png": "[encoded data removed]",
      "text/plain": [
       "<matplotlib.figure.Figure at 0xa20d8cbe0>"
      ]
     },
     "metadata": {
      "needs_background": "light"
     },
     "output_type": "display_data"
    }
   ],
   "source": [
    "plt.xlabel('step number')\n",
    "plt.ylabel('epsilon')\n",
    "plt.plot(exploration_factor)"
   ]
  },
  {
   "cell_type": "code",
   "execution_count": 6,
   "metadata": {},
   "outputs": [
    {
     "name": "stdout",
     "output_type": "stream",
     "text": [
      "20\n",
      "['examine Quote of the Day Calendar', 'take sandwich', 'close case', 'put Quote of the Day Calendar on counter', 'put broom on counter', 'examine sandwich', 'take broom from counter', 'eat sandwich', 'drop chocolate bar', 'drop cushion', 'examine counter', 'examine cushion', 'examine chocolate bar', 'open case', 'inventory', 'examine case', 'examine broom', 'look', 'go east', 'take lightbulb']\n"
     ]
    }
   ],
   "source": [
    "a = []\n",
    "for m in my_memory:\n",
    "    if m[1] not in a:\n",
    "        a.append(m[1])\n",
    "\n",
    "#for c in a:\n",
    "#    print(c)\n",
    "    \n",
    "print(len(a))\n",
    "print(a)"
   ]
  },
  {
   "cell_type": "code",
   "execution_count": null,
   "metadata": {},
   "outputs": [],
   "source": []
  },
  {
   "cell_type": "code",
   "execution_count": null,
   "metadata": {},
   "outputs": [],
   "source": []
  }
 ],
 "metadata": {
  "kernelspec": {
   "display_name": "Python 3",
   "language": "python",
   "name": "python3"
  },
  "language_info": {
   "codemirror_mode": {
    "name": "ipython",
    "version": 3
   },
   "file_extension": ".py",
   "mimetype": "text/x-python",
   "name": "python",
   "nbconvert_exporter": "python",
   "pygments_lexer": "ipython3",
   "version": "3.6.5"
  }
 },
 "nbformat": 4,
 "nbformat_minor": 2
}
